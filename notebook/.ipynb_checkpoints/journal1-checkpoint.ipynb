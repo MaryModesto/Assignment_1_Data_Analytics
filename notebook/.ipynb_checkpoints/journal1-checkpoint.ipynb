{
 "cells": [
  {
   "cell_type": "markdown",
   "metadata": {},
   "source": [
    "Imports."
   ]
  },
  {
   "cell_type": "code",
   "execution_count": null,
   "metadata": {
    "vscode": {
     "languageId": "plaintext"
    }
   },
   "outputs": [],
   "source": [
    "# cell 1\n",
    "\n",
    "import pandas as pd\n",
    "import numpy as np\n",
    "from scipy.spatial.distance import mahalanobis\n",
    "from scipy.optimize import linear_sum_assignment\n",
    "from scipy.stats import wilcoxon\n",
    "import matplotlib.pyplot as plt\n",
    "\n",
    "# Set random seed for reproducibility\n",
    "np.random.seed(42)\n"
   ]
  },
  {
   "cell_type": "markdown",
   "metadata": {},
   "source": [
    "Data Generation."
   ]
  },
  {
   "cell_type": "code",
   "execution_count": null,
   "metadata": {
    "vscode": {
     "languageId": "plaintext"
    }
   },
   "outputs": [],
   "source": [
    "# cell 2\n",
    "\n",
    "import pandas as pd\n",
    "import numpy as np\n",
    "from sklearn.preprocessing import StandardScaler\n",
    "\n",
    "n_patients = 400\n",
    "np.random.seed(42)\n",
    "\n",
    "# 1. Entry Time\n",
    "entry_time = np.random.uniform(0, 24, size=n_patients)\n",
    "\n",
    "# 2. Treatment Assignment & Time\n",
    "treated = np.zeros(n_patients, dtype=int)\n",
    "treatment_time = np.full(n_patients, np.nan)\n",
    "\n",
    "treatment_probability = 0.4\n",
    "\n",
    "for i in range(n_patients):\n",
    "    if np.random.binomial(1, treatment_probability) == 1:\n",
    "        treated[i] = 1\n",
    "        min_treatment_time = entry_time[i] + 3\n",
    "        max_treatment_time = min_treatment_time + 21\n",
    "        treatment_time[i] = np.random.uniform(min_treatment_time, max_treatment_time)\n",
    "\n",
    "# 3. Baseline Symptoms\n",
    "baseline_pain = np.random.randint(0, 10, size=n_patients)\n",
    "baseline_urgency = np.random.randint(0, 10, size=n_patients)\n",
    "baseline_frequency = np.random.randint(0, 21, size=n_patients)\n",
    "\n",
    "# 4. Symptom Simulation\n",
    "def simulate_symptom_change(baseline, max_change=3):\n",
    "    change = np.random.randint(-max_change, max_change + 1)\n",
    "    new_symptom = baseline + change\n",
    "    return np.clip(new_symptom, 0, 9)\n",
    "\n",
    "# Treatment Symptoms\n",
    "treatment_pain = np.where(treated == 1, [simulate_symptom_change(baseline_pain[i]) for i in range(n_patients)], np.nan)\n",
    "treatment_urgency = np.where(treated == 1, [simulate_symptom_change(baseline_urgency[i]) for i in range(n_patients)], np.nan)\n",
    "treatment_frequency = np.where(treated == 1, [simulate_symptom_change(baseline_frequency[i]) for i in range(n_patients)], np.nan)\n",
    "\n",
    "# Follow-up Symptoms (3m and 6m)\n",
    "pain_3m = np.full(n_patients, np.nan)\n",
    "urgency_3m = np.full(n_patients, np.nan)\n",
    "frequency_3m = np.full(n_patients, np.nan)\n",
    "pain_6m = np.full(n_patients, np.nan)\n",
    "urgency_6m = np.full(n_patients, np.nan)\n",
    "frequency_6m = np.full(n_patients, np.nan)\n",
    "\n",
    "for i in range(n_patients):\n",
    "    if treated[i] == 1:\n",
    "        pain_3m[i] = simulate_symptom_change(treatment_pain[i])\n",
    "        urgency_3m[i] = simulate_symptom_change(treatment_urgency[i])\n",
    "        frequency_3m[i] = simulate_symptom_change(treatment_frequency[i])\n",
    "\n",
    "        pain_6m[i] = simulate_symptom_change(pain_3m[i])\n",
    "        urgency_6m[i] = simulate_symptom_change(urgency_3m[i])\n",
    "        frequency_6m[i] = simulate_symptom_change(frequency_3m[i])\n",
    "\n",
    "# 5. Other Variables (without unobserved factor)\n",
    "age = np.random.randint(20, 81, size=n_patients)\n",
    "gender = np.random.choice([0, 1], size=n_patients)\n",
    "\n",
    "# 6. Create DataFrame (without unobserved factor)\n",
    "df = pd.DataFrame({\n",
    "    'entry_time': entry_time,\n",
    "    'treatment_time': treatment_time,\n",
    "    'treated': treated,\n",
    "    'pain_baseline': baseline_pain,\n",
    "    'urgency_baseline': urgency_baseline,\n",
    "    'frequency_baseline': frequency_baseline,\n",
    "    'pain_treatment': treatment_pain,\n",
    "    'urgency_treatment': urgency_treatment,\n",
    "    'frequency_treatment': frequency_treatment,\n",
    "    'pain_3m': pain_3m,\n",
    "    'urgency_3m': urgency_3m,\n",
    "    'frequency_3m': frequency_3m,\n",
    "    'pain_6m': pain_6m,\n",
    "    'urgency_6m': urgency_6m,\n",
    "    'frequency_6m': frequency_6m,\n",
    "    'age': age,\n",
    "    'gender': gender,\n",
    "})\n",
    "\n",
    "# 7. Sort and Standardize\n",
    "df = df.sort_values(by='entry_time').reset_index(drop=True)\n",
    "\n",
    "symptom_cols = ['pain_baseline', 'urgency_baseline', 'frequency_baseline']\n",
    "scaler = StandardScaler()\n",
    "df[symptom_cols] = scaler.fit_transform(df[symptom_cols])\n",
    "\n",
    "df.to_csv(\"synthetic_data.csv\", index=False)\n",
    "df.head()"
   ]
  }
 ],
 "metadata": {
  "language_info": {
   "name": "python"
  }
 },
 "nbformat": 4,
 "nbformat_minor": 2
}
