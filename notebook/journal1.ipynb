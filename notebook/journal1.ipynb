{
 "cells": [
  {
   "cell_type": "code",
   "execution_count": 13,
   "metadata": {
    "vscode": {
     "languageId": "plaintext"
    }
   },
   "outputs": [],
   "source": [
    "# cell 1\n",
    "\n",
    "import pandas as pd\n",
    "import numpy as np\n",
    "from scipy.spatial.distance import mahalanobis\n",
    "from scipy.optimize import linear_sum_assignment\n",
    "from scipy.stats import wilcoxon\n",
    "import matplotlib.pyplot as plt\n",
    "\n",
    "# Set random seed for reproducibility\n",
    "np.random.seed(42)\n"
   ]
  },
  {
   "cell_type": "code",
   "execution_count": 14,
   "metadata": {
    "vscode": {
     "languageId": "plaintext"
    }
   },
   "outputs": [
    {
     "data": {
      "text/html": [
       "<div>\n",
       "<style scoped>\n",
       "    .dataframe tbody tr th:only-of-type {\n",
       "        vertical-align: middle;\n",
       "    }\n",
       "\n",
       "    .dataframe tbody tr th {\n",
       "        vertical-align: top;\n",
       "    }\n",
       "\n",
       "    .dataframe thead th {\n",
       "        text-align: right;\n",
       "    }\n",
       "</style>\n",
       "<table border=\"1\" class=\"dataframe\">\n",
       "  <thead>\n",
       "    <tr style=\"text-align: right;\">\n",
       "      <th></th>\n",
       "      <th>id</th>\n",
       "      <th>pain_score</th>\n",
       "      <th>urgency_score</th>\n",
       "      <th>frequency</th>\n",
       "      <th>treated</th>\n",
       "    </tr>\n",
       "  </thead>\n",
       "  <tbody>\n",
       "    <tr>\n",
       "      <th>0</th>\n",
       "      <td>0</td>\n",
       "      <td>6</td>\n",
       "      <td>1</td>\n",
       "      <td>5</td>\n",
       "      <td>1</td>\n",
       "    </tr>\n",
       "    <tr>\n",
       "      <th>1</th>\n",
       "      <td>1</td>\n",
       "      <td>3</td>\n",
       "      <td>0</td>\n",
       "      <td>0</td>\n",
       "      <td>1</td>\n",
       "    </tr>\n",
       "    <tr>\n",
       "      <th>2</th>\n",
       "      <td>2</td>\n",
       "      <td>7</td>\n",
       "      <td>6</td>\n",
       "      <td>8</td>\n",
       "      <td>1</td>\n",
       "    </tr>\n",
       "    <tr>\n",
       "      <th>3</th>\n",
       "      <td>3</td>\n",
       "      <td>4</td>\n",
       "      <td>6</td>\n",
       "      <td>5</td>\n",
       "      <td>1</td>\n",
       "    </tr>\n",
       "    <tr>\n",
       "      <th>4</th>\n",
       "      <td>4</td>\n",
       "      <td>6</td>\n",
       "      <td>7</td>\n",
       "      <td>2</td>\n",
       "      <td>1</td>\n",
       "    </tr>\n",
       "  </tbody>\n",
       "</table>\n",
       "</div>"
      ],
      "text/plain": [
       "   id  pain_score  urgency_score  frequency  treated\n",
       "0   0           6              1          5        1\n",
       "1   1           3              0          0        1\n",
       "2   2           7              6          8        1\n",
       "3   3           4              6          5        1\n",
       "4   4           6              7          2        1"
      ]
     },
     "execution_count": 14,
     "metadata": {},
     "output_type": "execute_result"
    }
   ],
   "source": [
    "# cell 2\n",
    "\n",
    "num_patients = 100  # Adjust if needed\n",
    "\n",
    "# Generates treated group\n",
    "treated = pd.DataFrame({\n",
    "    'id': range(num_patients),\n",
    "    'pain_score': np.random.randint(0, 10, num_patients),\n",
    "    'urgency_score': np.random.randint(0, 10, num_patients),\n",
    "    'frequency': np.random.randint(0, 10, num_patients),\n",
    "    'treated': 1\n",
    "})\n",
    "\n",
    "# Generates untreated group\n",
    "untreated = pd.DataFrame({\n",
    "    'id': range(num_patients, 2 * num_patients),\n",
    "    'pain_score': np.random.randint(0, 10, num_patients),\n",
    "    'urgency_score': np.random.randint(0, 10, num_patients),\n",
    "    'frequency': np.random.randint(0, 10, num_patients),\n",
    "    'treated': 0\n",
    "})\n",
    "\n",
    "# Combines both the treated and untreated patients\n",
    "df = pd.concat([treated, untreated], ignore_index=True)\n",
    "\n",
    "# This one like saves it to csv essentially\n",
    "df.to_csv(\"synthetic_data.csv\", index=False)\n",
    "\n",
    "# To be displayed in like the first few rows\n",
    "df.head()\n"
   ]
  },
  {
   "cell_type": "code",
   "execution_count": 15,
   "metadata": {
    "vscode": {
     "languageId": "plaintext"
    }
   },
   "outputs": [
    {
     "data": {
      "text/html": [
       "<div>\n",
       "<style scoped>\n",
       "    .dataframe tbody tr th:only-of-type {\n",
       "        vertical-align: middle;\n",
       "    }\n",
       "\n",
       "    .dataframe tbody tr th {\n",
       "        vertical-align: top;\n",
       "    }\n",
       "\n",
       "    .dataframe thead th {\n",
       "        text-align: right;\n",
       "    }\n",
       "</style>\n",
       "<table border=\"1\" class=\"dataframe\">\n",
       "  <thead>\n",
       "    <tr style=\"text-align: right;\">\n",
       "      <th></th>\n",
       "      <th>id</th>\n",
       "      <th>pain_score</th>\n",
       "      <th>urgency_score</th>\n",
       "      <th>frequency</th>\n",
       "      <th>treated</th>\n",
       "    </tr>\n",
       "  </thead>\n",
       "  <tbody>\n",
       "    <tr>\n",
       "      <th>0</th>\n",
       "      <td>0</td>\n",
       "      <td>6</td>\n",
       "      <td>1</td>\n",
       "      <td>5</td>\n",
       "      <td>1</td>\n",
       "    </tr>\n",
       "    <tr>\n",
       "      <th>1</th>\n",
       "      <td>1</td>\n",
       "      <td>3</td>\n",
       "      <td>0</td>\n",
       "      <td>0</td>\n",
       "      <td>1</td>\n",
       "    </tr>\n",
       "    <tr>\n",
       "      <th>2</th>\n",
       "      <td>2</td>\n",
       "      <td>7</td>\n",
       "      <td>6</td>\n",
       "      <td>8</td>\n",
       "      <td>1</td>\n",
       "    </tr>\n",
       "    <tr>\n",
       "      <th>3</th>\n",
       "      <td>3</td>\n",
       "      <td>4</td>\n",
       "      <td>6</td>\n",
       "      <td>5</td>\n",
       "      <td>1</td>\n",
       "    </tr>\n",
       "    <tr>\n",
       "      <th>4</th>\n",
       "      <td>4</td>\n",
       "      <td>6</td>\n",
       "      <td>7</td>\n",
       "      <td>2</td>\n",
       "      <td>1</td>\n",
       "    </tr>\n",
       "  </tbody>\n",
       "</table>\n",
       "</div>"
      ],
      "text/plain": [
       "   id  pain_score  urgency_score  frequency  treated\n",
       "0   0           6              1          5        1\n",
       "1   1           3              0          0        1\n",
       "2   2           7              6          8        1\n",
       "3   3           4              6          5        1\n",
       "4   4           6              7          2        1"
      ]
     },
     "metadata": {},
     "output_type": "display_data"
    }
   ],
   "source": [
    "#cell 3\n",
    "\n",
    "# Load dataset\n",
    "try:\n",
    "    df = pd.read_csv(\"synthetic_data.csv\")\n",
    "    display(df.head())  # Display head only if file is found\n",
    "except FileNotFoundError:\n",
    "    print(\"Error: synthetic_data.csv not found.  Please make sure it's in the same directory as this notebook.\")\n",
    "    # You could also raise an exception here to halt execution if the file is critical:\n",
    "    # raise  # Uncomment if you want to stop execution\n",
    "except Exception as e: # Catch other potential errors, like incorrect file format\n",
    "    print(f\"An error occurred while reading the CSV: {e}\")\n",
    "    # raise # Uncomment if you want to stop execution"
   ]
  },
  {
   "cell_type": "code",
   "execution_count": 16,
   "metadata": {
    "vscode": {
     "languageId": "plaintext"
    }
   },
   "outputs": [],
   "source": [
    "# cell 4\n",
    "\n",
    "# Split dataset into treated and untreated\n",
    "try:\n",
    "    treated = df[df['treated'] == 1].reset_index(drop=True)\n",
    "    untreated = df[df['treated'] == 0].reset_index(drop=True)\n",
    "except KeyError:\n",
    "    print(\"Error: 'treated' column not found in the DataFrame. Please check the column name.\")\n",
    "\n",
    "# Define covariates for matching\n",
    "covariates = ['pain_score', 'urgency_score', 'frequency']\n",
    "\n",
    "# Check if covariates are in the dataframe\n",
    "for covariate in covariates:\n",
    "    if covariate not in df.columns:\n",
    "        raise KeyError(f\"Covariate '{covariate}' not found in the DataFrame. Please check the column name.\")"
   ]
  },
  {
   "cell_type": "code",
   "execution_count": 17,
   "metadata": {
    "vscode": {
     "languageId": "plaintext"
    }
   },
   "outputs": [],
   "source": [
    "#cell 5\n",
    "\n",
    "# Compute covariance matrix and its inverse\n",
    "try:\n",
    "    cov_matrix = np.cov(df[covariates].T)\n",
    "    inv_cov_matrix = np.linalg.inv(cov_matrix)\n",
    "except np.linalg.LinAlgError:\n",
    "    print(\"Error: Covariance matrix is singular.  Check for multicollinearity or insufficient data.\")\n",
    "    # Handle the error appropriately (e.g., stop execution, remove correlated variables, add regularization)\n",
    "    raise  # Or handle differently, depending on your needs.\n",
    "except Exception as e:\n",
    "    print(f\"An unexpected error occurred during covariance calculation: {e}\")\n",
    "    raise\n",
    "\n",
    "# Function to compute Mahalanobis distance (no changes needed here)\n",
    "def compute_mahalanobis(row1, row2):\n",
    "    return mahalanobis(row1[covariates], row2[covariates], inv_cov_matrix)\n"
   ]
  },
  {
   "cell_type": "code",
   "execution_count": 18,
   "metadata": {
    "vscode": {
     "languageId": "plaintext"
    }
   },
   "outputs": [
    {
     "name": "stdout",
     "output_type": "stream",
     "text": [
      "Median Mahalanobis distance before matching: 2.31\n"
     ]
    }
   ],
   "source": [
    "# cell 6\n",
    "\n",
    "before_matching_distances = []\n",
    "for i, t in treated.iterrows():\n",
    "    for j, u in untreated.iterrows():\n",
    "        before_matching_distances.append(compute_mahalanobis(t, u))\n",
    "\n",
    "print(f\"Median Mahalanobis distance before matching: {np.median(before_matching_distances):.2f}\")\n"
   ]
  },
  {
   "cell_type": "code",
   "execution_count": 19,
   "metadata": {
    "vscode": {
     "languageId": "plaintext"
    }
   },
   "outputs": [
    {
     "name": "stdout",
     "output_type": "stream",
     "text": [
      "Median Mahalanobis distance after matching: 0.51\n"
     ]
    }
   ],
   "source": [
    "# cell 7\n",
    "\n",
    "# Create distance matrix\n",
    "num_treated = len(treated)\n",
    "num_untreated = len(untreated)\n",
    "distance_matrix = np.zeros((num_treated, num_untreated))\n",
    "\n",
    "for i, t in treated.iterrows():\n",
    "    for j, u in untreated.iterrows():\n",
    "        distance_matrix[i, j] = compute_mahalanobis(t, u)\n",
    "\n",
    "# Solve optimal matching using Hungarian Algorithm\n",
    "row_ind, col_ind = linear_sum_assignment(distance_matrix)\n",
    "\n",
    "# Compute Mahalanobis Distances After Matching\n",
    "after_matching_distances = [distance_matrix[row, col] for row, col in zip(row_ind, col_ind)]\n",
    "\n",
    "print(f\"Median Mahalanobis distance after matching: {np.median(after_matching_distances):.2f}\")\n"
   ]
  },
  {
   "cell_type": "code",
   "execution_count": 20,
   "metadata": {
    "vscode": {
     "languageId": "plaintext"
    }
   },
   "outputs": [
    {
     "data": {
      "text/html": [
       "<div>\n",
       "<style scoped>\n",
       "    .dataframe tbody tr th:only-of-type {\n",
       "        vertical-align: middle;\n",
       "    }\n",
       "\n",
       "    .dataframe tbody tr th {\n",
       "        vertical-align: top;\n",
       "    }\n",
       "\n",
       "    .dataframe thead th {\n",
       "        text-align: right;\n",
       "    }\n",
       "</style>\n",
       "<table border=\"1\" class=\"dataframe\">\n",
       "  <thead>\n",
       "    <tr style=\"text-align: right;\">\n",
       "      <th></th>\n",
       "      <th>id_treated</th>\n",
       "      <th>pain_score_treated</th>\n",
       "      <th>urgency_score_treated</th>\n",
       "      <th>frequency_treated</th>\n",
       "      <th>treated_treated</th>\n",
       "      <th>id_untreated</th>\n",
       "      <th>pain_score_untreated</th>\n",
       "      <th>urgency_score_untreated</th>\n",
       "      <th>frequency_untreated</th>\n",
       "      <th>treated_untreated</th>\n",
       "    </tr>\n",
       "  </thead>\n",
       "  <tbody>\n",
       "    <tr>\n",
       "      <th>0</th>\n",
       "      <td>0</td>\n",
       "      <td>6</td>\n",
       "      <td>1</td>\n",
       "      <td>5</td>\n",
       "      <td>1</td>\n",
       "      <td>168</td>\n",
       "      <td>4</td>\n",
       "      <td>2</td>\n",
       "      <td>6</td>\n",
       "      <td>0</td>\n",
       "    </tr>\n",
       "    <tr>\n",
       "      <th>1</th>\n",
       "      <td>1</td>\n",
       "      <td>3</td>\n",
       "      <td>0</td>\n",
       "      <td>0</td>\n",
       "      <td>1</td>\n",
       "      <td>135</td>\n",
       "      <td>2</td>\n",
       "      <td>0</td>\n",
       "      <td>1</td>\n",
       "      <td>0</td>\n",
       "    </tr>\n",
       "    <tr>\n",
       "      <th>2</th>\n",
       "      <td>2</td>\n",
       "      <td>7</td>\n",
       "      <td>6</td>\n",
       "      <td>8</td>\n",
       "      <td>1</td>\n",
       "      <td>166</td>\n",
       "      <td>7</td>\n",
       "      <td>9</td>\n",
       "      <td>9</td>\n",
       "      <td>0</td>\n",
       "    </tr>\n",
       "    <tr>\n",
       "      <th>3</th>\n",
       "      <td>3</td>\n",
       "      <td>4</td>\n",
       "      <td>6</td>\n",
       "      <td>5</td>\n",
       "      <td>1</td>\n",
       "      <td>163</td>\n",
       "      <td>5</td>\n",
       "      <td>7</td>\n",
       "      <td>5</td>\n",
       "      <td>0</td>\n",
       "    </tr>\n",
       "    <tr>\n",
       "      <th>4</th>\n",
       "      <td>4</td>\n",
       "      <td>6</td>\n",
       "      <td>7</td>\n",
       "      <td>2</td>\n",
       "      <td>1</td>\n",
       "      <td>155</td>\n",
       "      <td>5</td>\n",
       "      <td>9</td>\n",
       "      <td>3</td>\n",
       "      <td>0</td>\n",
       "    </tr>\n",
       "  </tbody>\n",
       "</table>\n",
       "</div>"
      ],
      "text/plain": [
       "   id_treated  pain_score_treated  urgency_score_treated  frequency_treated  \\\n",
       "0           0                   6                      1                  5   \n",
       "1           1                   3                      0                  0   \n",
       "2           2                   7                      6                  8   \n",
       "3           3                   4                      6                  5   \n",
       "4           4                   6                      7                  2   \n",
       "\n",
       "   treated_treated  id_untreated  pain_score_untreated  \\\n",
       "0                1           168                     4   \n",
       "1                1           135                     2   \n",
       "2                1           166                     7   \n",
       "3                1           163                     5   \n",
       "4                1           155                     5   \n",
       "\n",
       "   urgency_score_untreated  frequency_untreated  treated_untreated  \n",
       "0                        2                    6                  0  \n",
       "1                        0                    1                  0  \n",
       "2                        9                    9                  0  \n",
       "3                        7                    5                  0  \n",
       "4                        9                    3                  0  "
      ]
     },
     "metadata": {},
     "output_type": "display_data"
    }
   ],
   "source": [
    "#cell 8\n",
    "\n",
    "# Create matched pairs\n",
    "matched_pairs = [(treated.iloc[i]['id'], untreated.iloc[j]['id']) for i, j in zip(row_ind, col_ind)]\n",
    "\n",
    "# Create a DataFrame of matched data\n",
    "matched_data = pd.DataFrame(matched_pairs, columns=['treated_id', 'untreated_id'])\n",
    "\n",
    "# More robust merging with correct suffixes (Corrected)\n",
    "treated_matched = treated.iloc[row_ind].reset_index(drop=True)  # Select matched treated\n",
    "untreated_matched = untreated.iloc[col_ind].reset_index(drop=True) # Select matched untreated\n",
    "\n",
    "matched_data = pd.concat([treated_matched.add_suffix('_treated'), untreated_matched.add_suffix('_untreated')], axis=1)\n",
    "\n",
    "\n",
    "# Save matched dataset\n",
    "matched_data.to_csv(\"matched_data.csv\", index=False)\n",
    "\n",
    "# Display first few rows\n",
    "display(matched_data.head())"
   ]
  },
  {
   "cell_type": "code",
   "execution_count": 21,
   "metadata": {
    "vscode": {
     "languageId": "plaintext"
    }
   },
   "outputs": [
    {
     "name": "stdout",
     "output_type": "stream",
     "text": [
      "\n",
      "Before Matching:\n"
     ]
    },
    {
     "data": {
      "text/html": [
       "<div>\n",
       "<style scoped>\n",
       "    .dataframe tbody tr th:only-of-type {\n",
       "        vertical-align: middle;\n",
       "    }\n",
       "\n",
       "    .dataframe tbody tr th {\n",
       "        vertical-align: top;\n",
       "    }\n",
       "\n",
       "    .dataframe thead tr th {\n",
       "        text-align: left;\n",
       "    }\n",
       "\n",
       "    .dataframe thead tr:last-of-type th {\n",
       "        text-align: right;\n",
       "    }\n",
       "</style>\n",
       "<table border=\"1\" class=\"dataframe\">\n",
       "  <thead>\n",
       "    <tr>\n",
       "      <th></th>\n",
       "      <th colspan=\"8\" halign=\"left\">pain_score</th>\n",
       "      <th colspan=\"5\" halign=\"left\">urgency_score</th>\n",
       "      <th colspan=\"8\" halign=\"left\">frequency</th>\n",
       "    </tr>\n",
       "    <tr>\n",
       "      <th></th>\n",
       "      <th>count</th>\n",
       "      <th>mean</th>\n",
       "      <th>std</th>\n",
       "      <th>min</th>\n",
       "      <th>25%</th>\n",
       "      <th>50%</th>\n",
       "      <th>75%</th>\n",
       "      <th>max</th>\n",
       "      <th>count</th>\n",
       "      <th>mean</th>\n",
       "      <th>...</th>\n",
       "      <th>75%</th>\n",
       "      <th>max</th>\n",
       "      <th>count</th>\n",
       "      <th>mean</th>\n",
       "      <th>std</th>\n",
       "      <th>min</th>\n",
       "      <th>25%</th>\n",
       "      <th>50%</th>\n",
       "      <th>75%</th>\n",
       "      <th>max</th>\n",
       "    </tr>\n",
       "    <tr>\n",
       "      <th>treated</th>\n",
       "      <th></th>\n",
       "      <th></th>\n",
       "      <th></th>\n",
       "      <th></th>\n",
       "      <th></th>\n",
       "      <th></th>\n",
       "      <th></th>\n",
       "      <th></th>\n",
       "      <th></th>\n",
       "      <th></th>\n",
       "      <th></th>\n",
       "      <th></th>\n",
       "      <th></th>\n",
       "      <th></th>\n",
       "      <th></th>\n",
       "      <th></th>\n",
       "      <th></th>\n",
       "      <th></th>\n",
       "      <th></th>\n",
       "      <th></th>\n",
       "      <th></th>\n",
       "    </tr>\n",
       "  </thead>\n",
       "  <tbody>\n",
       "    <tr>\n",
       "      <th>0</th>\n",
       "      <td>100.0</td>\n",
       "      <td>4.79</td>\n",
       "      <td>3.046094</td>\n",
       "      <td>0.0</td>\n",
       "      <td>2.0</td>\n",
       "      <td>5.0</td>\n",
       "      <td>7.0</td>\n",
       "      <td>9.0</td>\n",
       "      <td>100.0</td>\n",
       "      <td>4.38</td>\n",
       "      <td>...</td>\n",
       "      <td>7.0</td>\n",
       "      <td>9.0</td>\n",
       "      <td>100.0</td>\n",
       "      <td>4.63</td>\n",
       "      <td>2.928974</td>\n",
       "      <td>0.0</td>\n",
       "      <td>2.0</td>\n",
       "      <td>4.0</td>\n",
       "      <td>8.0</td>\n",
       "      <td>9.0</td>\n",
       "    </tr>\n",
       "    <tr>\n",
       "      <th>1</th>\n",
       "      <td>100.0</td>\n",
       "      <td>4.91</td>\n",
       "      <td>2.871296</td>\n",
       "      <td>0.0</td>\n",
       "      <td>2.0</td>\n",
       "      <td>5.0</td>\n",
       "      <td>7.0</td>\n",
       "      <td>9.0</td>\n",
       "      <td>100.0</td>\n",
       "      <td>4.21</td>\n",
       "      <td>...</td>\n",
       "      <td>6.0</td>\n",
       "      <td>9.0</td>\n",
       "      <td>100.0</td>\n",
       "      <td>3.86</td>\n",
       "      <td>2.774414</td>\n",
       "      <td>0.0</td>\n",
       "      <td>2.0</td>\n",
       "      <td>3.0</td>\n",
       "      <td>6.0</td>\n",
       "      <td>9.0</td>\n",
       "    </tr>\n",
       "  </tbody>\n",
       "</table>\n",
       "<p>2 rows × 24 columns</p>\n",
       "</div>"
      ],
      "text/plain": [
       "        pain_score                                          urgency_score  \\\n",
       "             count  mean       std  min  25%  50%  75%  max         count   \n",
       "treated                                                                     \n",
       "0            100.0  4.79  3.046094  0.0  2.0  5.0  7.0  9.0         100.0   \n",
       "1            100.0  4.91  2.871296  0.0  2.0  5.0  7.0  9.0         100.0   \n",
       "\n",
       "               ...           frequency                                      \\\n",
       "         mean  ...  75%  max     count  mean       std  min  25%  50%  75%   \n",
       "treated        ...                                                           \n",
       "0        4.38  ...  7.0  9.0     100.0  4.63  2.928974  0.0  2.0  4.0  8.0   \n",
       "1        4.21  ...  6.0  9.0     100.0  3.86  2.774414  0.0  2.0  3.0  6.0   \n",
       "\n",
       "              \n",
       "         max  \n",
       "treated       \n",
       "0        9.0  \n",
       "1        9.0  \n",
       "\n",
       "[2 rows x 24 columns]"
      ]
     },
     "metadata": {},
     "output_type": "display_data"
    },
    {
     "name": "stdout",
     "output_type": "stream",
     "text": [
      "\n",
      "After Matching:\n"
     ]
    },
    {
     "data": {
      "text/html": [
       "<div>\n",
       "<style scoped>\n",
       "    .dataframe tbody tr th:only-of-type {\n",
       "        vertical-align: middle;\n",
       "    }\n",
       "\n",
       "    .dataframe tbody tr th {\n",
       "        vertical-align: top;\n",
       "    }\n",
       "\n",
       "    .dataframe thead th {\n",
       "        text-align: right;\n",
       "    }\n",
       "</style>\n",
       "<table border=\"1\" class=\"dataframe\">\n",
       "  <thead>\n",
       "    <tr style=\"text-align: right;\">\n",
       "      <th></th>\n",
       "      <th>pain_score_treated</th>\n",
       "      <th>urgency_score_treated</th>\n",
       "      <th>frequency_treated</th>\n",
       "      <th>pain_score_untreated</th>\n",
       "      <th>urgency_score_untreated</th>\n",
       "      <th>frequency_untreated</th>\n",
       "    </tr>\n",
       "  </thead>\n",
       "  <tbody>\n",
       "    <tr>\n",
       "      <th>count</th>\n",
       "      <td>100.000000</td>\n",
       "      <td>100.00</td>\n",
       "      <td>100.000000</td>\n",
       "      <td>100.000000</td>\n",
       "      <td>100.000000</td>\n",
       "      <td>100.000000</td>\n",
       "    </tr>\n",
       "    <tr>\n",
       "      <th>mean</th>\n",
       "      <td>4.910000</td>\n",
       "      <td>4.21</td>\n",
       "      <td>3.860000</td>\n",
       "      <td>4.790000</td>\n",
       "      <td>4.380000</td>\n",
       "      <td>4.630000</td>\n",
       "    </tr>\n",
       "    <tr>\n",
       "      <th>std</th>\n",
       "      <td>2.871296</td>\n",
       "      <td>2.90</td>\n",
       "      <td>2.774414</td>\n",
       "      <td>3.046094</td>\n",
       "      <td>3.037742</td>\n",
       "      <td>2.928974</td>\n",
       "    </tr>\n",
       "    <tr>\n",
       "      <th>min</th>\n",
       "      <td>0.000000</td>\n",
       "      <td>0.00</td>\n",
       "      <td>0.000000</td>\n",
       "      <td>0.000000</td>\n",
       "      <td>0.000000</td>\n",
       "      <td>0.000000</td>\n",
       "    </tr>\n",
       "    <tr>\n",
       "      <th>25%</th>\n",
       "      <td>2.000000</td>\n",
       "      <td>2.00</td>\n",
       "      <td>2.000000</td>\n",
       "      <td>2.000000</td>\n",
       "      <td>2.000000</td>\n",
       "      <td>2.000000</td>\n",
       "    </tr>\n",
       "    <tr>\n",
       "      <th>50%</th>\n",
       "      <td>5.000000</td>\n",
       "      <td>4.00</td>\n",
       "      <td>3.000000</td>\n",
       "      <td>5.000000</td>\n",
       "      <td>4.000000</td>\n",
       "      <td>4.000000</td>\n",
       "    </tr>\n",
       "    <tr>\n",
       "      <th>75%</th>\n",
       "      <td>7.000000</td>\n",
       "      <td>6.00</td>\n",
       "      <td>6.000000</td>\n",
       "      <td>7.000000</td>\n",
       "      <td>7.000000</td>\n",
       "      <td>8.000000</td>\n",
       "    </tr>\n",
       "    <tr>\n",
       "      <th>max</th>\n",
       "      <td>9.000000</td>\n",
       "      <td>9.00</td>\n",
       "      <td>9.000000</td>\n",
       "      <td>9.000000</td>\n",
       "      <td>9.000000</td>\n",
       "      <td>9.000000</td>\n",
       "    </tr>\n",
       "  </tbody>\n",
       "</table>\n",
       "</div>"
      ],
      "text/plain": [
       "       pain_score_treated  urgency_score_treated  frequency_treated  \\\n",
       "count          100.000000                 100.00         100.000000   \n",
       "mean             4.910000                   4.21           3.860000   \n",
       "std              2.871296                   2.90           2.774414   \n",
       "min              0.000000                   0.00           0.000000   \n",
       "25%              2.000000                   2.00           2.000000   \n",
       "50%              5.000000                   4.00           3.000000   \n",
       "75%              7.000000                   6.00           6.000000   \n",
       "max              9.000000                   9.00           9.000000   \n",
       "\n",
       "       pain_score_untreated  urgency_score_untreated  frequency_untreated  \n",
       "count            100.000000               100.000000           100.000000  \n",
       "mean               4.790000                 4.380000             4.630000  \n",
       "std                3.046094                 3.037742             2.928974  \n",
       "min                0.000000                 0.000000             0.000000  \n",
       "25%                2.000000                 2.000000             2.000000  \n",
       "50%                5.000000                 4.000000             4.000000  \n",
       "75%                7.000000                 7.000000             8.000000  \n",
       "max                9.000000                 9.000000             9.000000  "
      ]
     },
     "metadata": {},
     "output_type": "display_data"
    }
   ],
   "source": [
    "# cell 9\n",
    "\n",
    "print(\"\\nBefore Matching:\")\n",
    "display(df.groupby('treated')[covariates].describe())\n",
    "\n",
    "print(\"\\nAfter Matching:\")\n",
    "\n",
    "# Dynamically generate the list of columns to display\n",
    "matched_covariates = [f\"{cov}_treated\" for cov in covariates] + [f\"{cov}_untreated\" for cov in covariates]\n",
    "\n",
    "# Check if all columns exist before trying to display them\n",
    "if all(col in matched_data.columns for col in matched_covariates):\n",
    "    display(matched_data[matched_covariates].describe())\n",
    "else:\n",
    "    missing_cols = [col for col in matched_covariates if col not in matched_data.columns]\n",
    "    print(f\"Error: The following columns are missing from matched_data: {missing_cols}\")\n",
    "    # Handle this error as needed (e.g., stop execution, check your merge logic)\n",
    "    # raise # Uncomment to stop execution\n"
   ]
  },
  {
   "cell_type": "code",
   "execution_count": 22,
   "metadata": {
    "vscode": {
     "languageId": "plaintext"
    }
   },
   "outputs": [
    {
     "data": {
      "text/plain": [
       "<Figure size 1000x500 with 0 Axes>"
      ]
     },
     "metadata": {},
     "output_type": "display_data"
    },
    {
     "data": {
      "image/png": "[encoded data removed]",
      "text/plain": [
       "<Figure size 640x480 with 1 Axes>"
      ]
     },
     "metadata": {},
     "output_type": "display_data"
    },
    {
     "data": {
      "image/png": "[encoded data removed]",
      "text/plain": [
       "<Figure size 1000x500 with 1 Axes>"
      ]
     },
     "metadata": {},
     "output_type": "display_data"
    },
    {
     "data": {
      "image/png": "[encoded data removed]",
      "text/plain": [
       "<Figure size 1000x500 with 1 Axes>"
      ]
     },
     "metadata": {},
     "output_type": "display_data"
    }
   ],
   "source": [
    "# cell 10\n",
    "\n",
    "# Before Matching\n",
    "plt.figure(figsize=(10, 5))\n",
    "df.boxplot(column=['pain_score'], by='treated') # Or by 'treated'\n",
    "plt.title(\"Pain Score Distribution Before Matching\")\n",
    "plt.suptitle(\"\")\n",
    "plt.xlabel(\"Treated (1 = Yes, 0 = No)\")\n",
    "plt.ylabel(\"Pain Score\")\n",
    "plt.show()\n",
    "\n",
    "# After Matching (Improved)\n",
    "plt.figure(figsize=(10, 5))\n",
    "\n",
    "# Dynamic column selection for boxplot\n",
    "pain_score_cols = [f\"{cov}_treated\" for cov in covariates if cov == 'pain_score'] + [f\"{cov}_untreated\" for cov in covariates if cov == 'pain_score']\n",
    "\n",
    "if all(col in matched_data.columns for col in pain_score_cols):\n",
    "    matched_data[pain_score_cols].boxplot()\n",
    "    plt.title(\"Pain Score Distribution After Matching\")\n",
    "    plt.suptitle(\"\")\n",
    "    plt.xlabel(\"Group\")\n",
    "    plt.ylabel(\"Pain Score\")\n",
    "    plt.xticks([1, 2], ['Treated', 'Control'])\n",
    "    plt.show()\n",
    "else:\n",
    "    missing_cols = [col for col in pain_score_cols if col not in matched_data.columns]\n",
    "    print(f\"Error: The following columns are missing from matched_data for the boxplot: {missing_cols}\")\n",
    "    # Handle this error as needed (e.g., stop execution, check your merge logic)\n",
    "    # raise # Uncomment to stop execution\n",
    "\n",
    "# You can repeat this pattern for other covariates if you want boxplots for them as well.\n",
    "# Example for 'urgency_score':\n",
    "\n",
    "plt.figure(figsize=(10, 5))\n",
    "urgency_score_cols = [f\"{cov}_treated\" for cov in covariates if cov == 'urgency_score'] + [f\"{cov}_untreated\" for cov in covariates if cov == 'urgency_score']\n",
    "\n",
    "if all(col in matched_data.columns for col in urgency_score_cols):\n",
    "    matched_data[urgency_score_cols].boxplot()\n",
    "    plt.title(\"Urgency Score Distribution After Matching\")\n",
    "    plt.suptitle(\"\")\n",
    "    plt.xlabel(\"Group\")\n",
    "    plt.ylabel(\"Urgency Score\")\n",
    "    plt.xticks([1, 2], ['Treated', 'Control'])\n",
    "    plt.show()\n",
    "else:\n",
    "    missing_cols = [col for col in urgency_score_cols if col not in matched_data.columns]\n",
    "    print(f\"Error: The following columns are missing from matched_data for the boxplot: {missing_cols}\")\n",
    "    # Handle this error as needed (e.g., stop execution, check your merge logic)\n",
    "\n",
    "# And so on for 'frequency' if you want that plot.\n"
   ]
  },
  {
   "cell_type": "code",
   "execution_count": 23,
   "metadata": {
    "vscode": {
     "languageId": "plaintext"
    }
   },
   "outputs": [
    {
     "name": "stdout",
     "output_type": "stream",
     "text": [
      "Wilcoxon test statistic: 156.5, p-value: 5.375607794053849e-09\n"
     ]
    }
   ],
   "source": [
    "# Cell 11: Wilcoxon Signed-Rank Test (Improved)\n",
    "\n",
    "# Check if the required columns exist\n",
    "if 'frequency_treated' in matched_data.columns and 'frequency_untreated' in matched_data.columns:\n",
    "    matched_data['frequency_diff'] = matched_data['frequency_treated'] - matched_data['frequency_untreated']\n",
    "    stat, p_value = wilcoxon(matched_data['frequency_diff'])\n",
    "    print(f\"Wilcoxon test statistic: {stat}, p-value: {p_value}\")\n",
    "else:\n",
    "    missing_cols = []\n",
    "    if 'frequency_treated' not in matched_data.columns:\n",
    "        missing_cols.append('frequency_treated')\n",
    "    if 'frequency_untreated' not in matched_data.columns:\n",
    "        missing_cols.append('frequency_untreated')\n",
    "\n",
    "    print(f\"Error: The following columns are missing from matched_data for the Wilcoxon test: {missing_cols}\")\n",
    "    # Handle this error as needed (e.g., stop execution, check your merge logic)\n",
    "    # raise # Uncomment to stop execution"
   ]
  },
  {
   "cell_type": "code",
   "execution_count": 24,
   "metadata": {
    "vscode": {
     "languageId": "plaintext"
    }
   },
   "outputs": [
    {
     "name": "stdout",
     "output_type": "stream",
     "text": [
      "Gamma: 1, Bound: 2.159766253784915\n",
      "Gamma: 1.5, Bound: 3.1740234175276\n",
      "Gamma: 2, Bound: 4.664590270988126\n",
      "Gamma: 2.5, Bound: 6.855148665899178\n",
      "Gamma: 3, Bound: 10.074424655013587\n"
     ]
    }
   ],
   "source": [
    "# Cell 12: Sensitivity Analysis (Improved)\n",
    "\n",
    "gamma_values = [1, 1.5, 2, 2.5, 3]\n",
    "\n",
    "if 'frequency_diff' in matched_data.columns:\n",
    "    for gamma in gamma_values:\n",
    "        bound = np.exp(-gamma * matched_data['frequency_diff'].mean())\n",
    "        print(f\"Gamma: {gamma}, Bound: {bound}\")\n",
    "else:\n",
    "    print(\"Error: 'frequency_diff' column not found in matched_data. Cannot perform sensitivity analysis.\")\n",
    "    # Handle this error as needed (e.g., stop execution, check your merge/calculation logic)\n",
    "    # raise # Uncomment to stop execution"
   ]
  },
  {
   "cell_type": "code",
   "execution_count": null,
   "metadata": {},
   "outputs": [],
   "source": []
  },
  {
   "cell_type": "code",
   "execution_count": null,
   "metadata": {},
   "outputs": [],
   "source": []
  },
  {
   "cell_type": "code",
   "execution_count": null,
   "metadata": {},
   "outputs": [],
   "source": []
  }
 ],
 "metadata": {
  "kernelspec": {
   "display_name": "Python 3 (ipykernel)",
   "language": "python",
   "name": "python3"
  },
  "language_info": {
   "codemirror_mode": {
    "name": "ipython",
    "version": 3
   },
   "file_extension": ".py",
   "mimetype": "text/x-python",
   "name": "python",
   "nbconvert_exporter": "python",
   "pygments_lexer": "ipython3",
   "version": "3.13.0"
  }
 },
 "nbformat": 4,
 "nbformat_minor": 4
}
